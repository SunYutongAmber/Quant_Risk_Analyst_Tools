{
 "cells": [
  {
   "cell_type": "markdown",
   "metadata": {},
   "source": [
    "# Calculate First Four Moments"
   ]
  },
  {
   "cell_type": "code",
   "execution_count": 2,
   "metadata": {},
   "outputs": [
    {
     "name": "stdout",
     "output_type": "stream",
     "text": [
      "Mean -0.04525670749019531 (-0.045256707490195384)\n",
      "Variance 0.9752096659781323 (0.9752096659781324)\n",
      "Skewness 0.03385895323565697 (-0.045256707490195384)\n",
      "Kurtosis -0.046766324478328514 (2.9532336755216706)\n",
      "Mean diff = 7.632783294297951e-17\n",
      "Variance diff = -1.1102230246251565e-16\n",
      "Skewness diff = 0.07911566072585235\n",
      "Kurtosis diff = -2.999999999999999\n",
      "Mean versus Expected 0.0025410303279901378\n",
      "Variance versus Expected -0.0049480026878993\n",
      "Skewness versus Expected -0.00736035878848957\n",
      "Kurtosis versus Expected -2.9757268966324713\n"
     ]
    }
   ],
   "source": [
    "import numpy as np\n",
    "from scipy.stats import norm, kurtosis\n",
    "from scipy.stats import ttest_1samp\n",
    "from statistics import mean, variance\n",
    "import threading\n",
    "\n",
    "# Simulate based on the defined Distribution, N(0, 1)\n",
    "n = 1000\n",
    "np.random.seed(0)\n",
    "sim = np.random.normal(0, 1, n)\n",
    "\n",
    "# Function to calculate the first four moments\n",
    "def first4Moments(sample):\n",
    "    n = len(sample)\n",
    "\n",
    "    # Mean\n",
    "    μ_hat = sum(sample) / n\n",
    "\n",
    "    # Remove the mean from the sample\n",
    "    sim_corrected = sample - μ_hat\n",
    "    cm2 = np.dot(sim_corrected, sim_corrected) / n\n",
    "\n",
    "    # Variance\n",
    "    σ2_hat = np.dot(sim_corrected, sim_corrected) / (n - 1)\n",
    "\n",
    "    # Skewness\n",
    "    skew_hat = sum(sim_corrected ** 3) / n / (cm2 ** (3 / 2))\n",
    "\n",
    "    # Kurtosis\n",
    "    kurt_hat = sum(sim_corrected ** 4) / n / (cm2 ** 2)\n",
    "\n",
    "    excessKurt_hat = kurt_hat - 3\n",
    "\n",
    "    return μ_hat, σ2_hat, skew_hat, excessKurt_hat\n",
    "\n",
    "m, s2, sk, k = first4Moments(sim)\n",
    "\n",
    "print(f\"Mean {m} ({mean(sim)})\")\n",
    "print(f\"Variance {s2} ({variance(sim)})\")\n",
    "print(f\"Skewness {sk} ({mean(sim) - 0})\")\n",
    "print(f\"Kurtosis {k} ({kurtosis(sim, fisher=False)})\")\n",
    "print(f\"Mean diff = {m - mean(sim)}\")\n",
    "print(f\"Variance diff = {s2 - variance(sim)}\")\n",
    "print(f\"Skewness diff = {sk - (mean(sim) - 0)}\")\n",
    "print(f\"Kurtosis diff = {k - kurtosis(sim, fisher=False)}\")\n",
    "\n",
    "# Study the limiting expected values from the estimators\n",
    "sample_size = 1000\n",
    "samples = 100\n",
    "\n",
    "means = np.empty(samples)\n",
    "vars = np.empty(samples)\n",
    "skews = np.empty(samples)\n",
    "kurts = np.empty(samples)\n",
    "\n",
    "def calculate_moments(i):\n",
    "    sample = np.random.normal(0, 1, sample_size)\n",
    "    means[i], vars[i], skews[i], kurts[i] = first4Moments(sample)\n",
    "\n",
    "threads = []\n",
    "for i in range(samples):\n",
    "    thread = threading.Thread(target=calculate_moments, args=(i,))\n",
    "    threads.append(thread)\n",
    "    thread.start()\n",
    "\n",
    "for thread in threads:\n",
    "    thread.join()\n",
    "\n",
    "print(f\"Mean versus Expected {mean(means) - 0}\")\n",
    "print(f\"Variance versus Expected {mean(vars) - 1}\")\n",
    "print(f\"Skewness versus Expected {mean(skews) - 0}\")\n",
    "print(f\"Kurtosis versus Expected {mean(kurts) - 3}\")"
   ]
  },
  {
   "cell_type": "markdown",
   "metadata": {},
   "source": [
    "# Hypothesis Testing"
   ]
  },
  {
   "cell_type": "code",
   "execution_count": 3,
   "metadata": {},
   "outputs": [
    {
     "name": "stdout",
     "output_type": "stream",
     "text": [
      "p-value: 0.131387823913794\n",
      "p-value2: 0.13138782391379403\n",
      "Match the stats package test?: True\n"
     ]
    }
   ],
   "source": [
    "import numpy as np\n",
    "from scipy.stats import kurtosis, t, ttest_1samp\n",
    "\n",
    "# Set parameters\n",
    "sample_size = 100000\n",
    "samples = 100\n",
    "\n",
    "# Generate samples and compute kurtosis for each sample\n",
    "kurts = np.array([kurtosis(np.random.normal(0, 1, sample_size)) for _ in range(samples)])\n",
    "\n",
    "# Summary statistics\n",
    "mean_kurts = np.mean(kurts)\n",
    "var_kurts = np.var(kurts, ddof=1)\n",
    "std_err = np.sqrt(var_kurts / samples)\n",
    "\n",
    "# T-statistic and p-value\n",
    "t_stat = mean_kurts / std_err\n",
    "p_value = 2 * (1 - t.cdf(abs(t_stat), df=samples - 1))\n",
    "\n",
    "print(f\"p-value: {p_value}\")\n",
    "\n",
    "# Using the included T-test\n",
    "ttest_result = ttest_1samp(kurts, 0)  # 0 is the expected kurtosis of the normal distribution\n",
    "p_value_2 = ttest_result.pvalue\n",
    "print(f\"p-value2: {p_value_2}\")\n",
    "\n",
    "print(f\"Match the stats package test?: {np.isclose(p_value, p_value_2)}\")"
   ]
  }
 ],
 "metadata": {
  "kernelspec": {
   "display_name": "base",
   "language": "python",
   "name": "python3"
  },
  "language_info": {
   "codemirror_mode": {
    "name": "ipython",
    "version": 3
   },
   "file_extension": ".py",
   "mimetype": "text/x-python",
   "name": "python",
   "nbconvert_exporter": "python",
   "pygments_lexer": "ipython3",
   "version": "3.9.12"
  }
 },
 "nbformat": 4,
 "nbformat_minor": 2
}
