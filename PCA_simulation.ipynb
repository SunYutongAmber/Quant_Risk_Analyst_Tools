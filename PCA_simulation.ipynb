{
 "cells": [
  {
   "cell_type": "code",
   "execution_count": null,
   "metadata": {},
   "outputs": [],
   "source": [
    "#give exponential weighted data\n",
    "def ewCovar(x, lam):\n",
    "    m, n = x.shape\n",
    "    w = np.array([(1-lam)*lam**(m-i) for i in range(m)])\n",
    "    w /= np.sum(w)\n",
    "    xm = np.mean(x, axis=0)\n",
    "    x -= xm\n",
    "    return np.cov(x, aweights=w, rowvar=False)"
   ]
  },
  {
   "cell_type": "code",
   "execution_count": null,
   "metadata": {},
   "outputs": [],
   "source": [
    "n_simulations = 10000\n",
    "pca = PCA()\n",
    "pca.fit(covar_matrix)\n",
    "simulated_returns = pca.transform(np.random.normal(size=(n_simulations, covar_matrix.shape[1])))\n",
    "simulated_returns.shape[0]"
   ]
  }
 ],
 "metadata": {
  "language_info": {
   "name": "python"
  }
 },
 "nbformat": 4,
 "nbformat_minor": 2
}
