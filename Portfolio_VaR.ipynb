{
 "cells": [
  {
   "cell_type": "markdown",
   "metadata": {},
   "source": [
    "# Monte Carlo Simulation"
   ]
  },
  {
   "cell_type": "code",
   "execution_count": 3,
   "metadata": {},
   "outputs": [],
   "source": [
    "import pandas as pd\n",
    "import numpy as np\n",
    "from scipy.stats import norm\n",
    "from sklearn.decomposition import PCA\n",
    "\n",
    "# Reading the portfolio data into a DataFrame\n",
    "portfolio = pd.read_csv(\"portfolio.csv\")\n",
    "returns = pd.read_csv('DailyReturn.csv')\n",
    "prices = pd.read_csv('DailyPrices.csv')\n"
   ]
  },
  {
   "cell_type": "markdown",
   "metadata": {},
   "source": [
    "### Covariance Matrix Function"
   ]
  },
  {
   "cell_type": "code",
   "execution_count": 4,
   "metadata": {},
   "outputs": [],
   "source": [
    "#give exponential weighted data\n",
    "def ewCovar(x, lam):\n",
    "    m, n = x.shape\n",
    "    w = np.array([(1-lam)*lam**(m-i) for i in range(m)])\n",
    "    w /= np.sum(w)\n",
    "    xm = np.mean(x, axis=0)\n",
    "    x -= xm\n",
    "    return np.cov(x, aweights=w, rowvar=False)"
   ]
  },
  {
   "cell_type": "code",
   "execution_count": 5,
   "metadata": {},
   "outputs": [
    {
     "ename": "KeyError",
     "evalue": "\"['ELV', 'MMC', 'VRTX', 'REGN', 'CB', 'CI', 'ETN', 'SLB', 'PGR', 'BSX'] not in index\"",
     "output_type": "error",
     "traceback": [
      "\u001b[0;31m---------------------------------------------------------------------------\u001b[0m",
      "\u001b[0;31mKeyError\u001b[0m                                  Traceback (most recent call last)",
      "Input \u001b[0;32mIn [5]\u001b[0m, in \u001b[0;36m<cell line: 1>\u001b[0;34m()\u001b[0m\n\u001b[0;32m----> 1\u001b[0m covar_matrix \u001b[38;5;241m=\u001b[39m ewCovar(\u001b[43mreturns\u001b[49m\u001b[43m[\u001b[49m\u001b[43mportfolio\u001b[49m\u001b[43m[\u001b[49m\u001b[38;5;124;43m'\u001b[39;49m\u001b[38;5;124;43mStock\u001b[39;49m\u001b[38;5;124;43m'\u001b[39;49m\u001b[43m]\u001b[49m\u001b[43m]\u001b[49m\u001b[38;5;241m.\u001b[39mto_numpy(), \u001b[38;5;241m0.94\u001b[39m)\n\u001b[1;32m      3\u001b[0m \u001b[38;5;66;03m# Getting the current price from the last row for the stocks in the portfolio\u001b[39;00m\n\u001b[1;32m      4\u001b[0m current_prices \u001b[38;5;241m=\u001b[39m prices\u001b[38;5;241m.\u001b[39miloc[\u001b[38;5;241m-\u001b[39m\u001b[38;5;241m1\u001b[39m][portfolio[\u001b[38;5;124m'\u001b[39m\u001b[38;5;124mStock\u001b[39m\u001b[38;5;124m'\u001b[39m]]\n",
      "File \u001b[0;32m/opt/anaconda3/lib/python3.9/site-packages/pandas/core/frame.py:3511\u001b[0m, in \u001b[0;36mDataFrame.__getitem__\u001b[0;34m(self, key)\u001b[0m\n\u001b[1;32m   3509\u001b[0m     \u001b[38;5;28;01mif\u001b[39;00m is_iterator(key):\n\u001b[1;32m   3510\u001b[0m         key \u001b[38;5;241m=\u001b[39m \u001b[38;5;28mlist\u001b[39m(key)\n\u001b[0;32m-> 3511\u001b[0m     indexer \u001b[38;5;241m=\u001b[39m \u001b[38;5;28;43mself\u001b[39;49m\u001b[38;5;241;43m.\u001b[39;49m\u001b[43mcolumns\u001b[49m\u001b[38;5;241;43m.\u001b[39;49m\u001b[43m_get_indexer_strict\u001b[49m\u001b[43m(\u001b[49m\u001b[43mkey\u001b[49m\u001b[43m,\u001b[49m\u001b[43m \u001b[49m\u001b[38;5;124;43m\"\u001b[39;49m\u001b[38;5;124;43mcolumns\u001b[39;49m\u001b[38;5;124;43m\"\u001b[39;49m\u001b[43m)\u001b[49m[\u001b[38;5;241m1\u001b[39m]\n\u001b[1;32m   3513\u001b[0m \u001b[38;5;66;03m# take() does not accept boolean indexers\u001b[39;00m\n\u001b[1;32m   3514\u001b[0m \u001b[38;5;28;01mif\u001b[39;00m \u001b[38;5;28mgetattr\u001b[39m(indexer, \u001b[38;5;124m\"\u001b[39m\u001b[38;5;124mdtype\u001b[39m\u001b[38;5;124m\"\u001b[39m, \u001b[38;5;28;01mNone\u001b[39;00m) \u001b[38;5;241m==\u001b[39m \u001b[38;5;28mbool\u001b[39m:\n",
      "File \u001b[0;32m/opt/anaconda3/lib/python3.9/site-packages/pandas/core/indexes/base.py:5782\u001b[0m, in \u001b[0;36mIndex._get_indexer_strict\u001b[0;34m(self, key, axis_name)\u001b[0m\n\u001b[1;32m   5779\u001b[0m \u001b[38;5;28;01melse\u001b[39;00m:\n\u001b[1;32m   5780\u001b[0m     keyarr, indexer, new_indexer \u001b[38;5;241m=\u001b[39m \u001b[38;5;28mself\u001b[39m\u001b[38;5;241m.\u001b[39m_reindex_non_unique(keyarr)\n\u001b[0;32m-> 5782\u001b[0m \u001b[38;5;28;43mself\u001b[39;49m\u001b[38;5;241;43m.\u001b[39;49m\u001b[43m_raise_if_missing\u001b[49m\u001b[43m(\u001b[49m\u001b[43mkeyarr\u001b[49m\u001b[43m,\u001b[49m\u001b[43m \u001b[49m\u001b[43mindexer\u001b[49m\u001b[43m,\u001b[49m\u001b[43m \u001b[49m\u001b[43maxis_name\u001b[49m\u001b[43m)\u001b[49m\n\u001b[1;32m   5784\u001b[0m keyarr \u001b[38;5;241m=\u001b[39m \u001b[38;5;28mself\u001b[39m\u001b[38;5;241m.\u001b[39mtake(indexer)\n\u001b[1;32m   5785\u001b[0m \u001b[38;5;28;01mif\u001b[39;00m \u001b[38;5;28misinstance\u001b[39m(key, Index):\n\u001b[1;32m   5786\u001b[0m     \u001b[38;5;66;03m# GH 42790 - Preserve name from an Index\u001b[39;00m\n",
      "File \u001b[0;32m/opt/anaconda3/lib/python3.9/site-packages/pandas/core/indexes/base.py:5845\u001b[0m, in \u001b[0;36mIndex._raise_if_missing\u001b[0;34m(self, key, indexer, axis_name)\u001b[0m\n\u001b[1;32m   5842\u001b[0m     \u001b[38;5;28;01mraise\u001b[39;00m \u001b[38;5;167;01mKeyError\u001b[39;00m(\u001b[38;5;124mf\u001b[39m\u001b[38;5;124m\"\u001b[39m\u001b[38;5;124mNone of [\u001b[39m\u001b[38;5;132;01m{\u001b[39;00mkey\u001b[38;5;132;01m}\u001b[39;00m\u001b[38;5;124m] are in the [\u001b[39m\u001b[38;5;132;01m{\u001b[39;00maxis_name\u001b[38;5;132;01m}\u001b[39;00m\u001b[38;5;124m]\u001b[39m\u001b[38;5;124m\"\u001b[39m)\n\u001b[1;32m   5844\u001b[0m not_found \u001b[38;5;241m=\u001b[39m \u001b[38;5;28mlist\u001b[39m(ensure_index(key)[missing_mask\u001b[38;5;241m.\u001b[39mnonzero()[\u001b[38;5;241m0\u001b[39m]]\u001b[38;5;241m.\u001b[39munique())\n\u001b[0;32m-> 5845\u001b[0m \u001b[38;5;28;01mraise\u001b[39;00m \u001b[38;5;167;01mKeyError\u001b[39;00m(\u001b[38;5;124mf\u001b[39m\u001b[38;5;124m\"\u001b[39m\u001b[38;5;132;01m{\u001b[39;00mnot_found\u001b[38;5;132;01m}\u001b[39;00m\u001b[38;5;124m not in index\u001b[39m\u001b[38;5;124m\"\u001b[39m)\n",
      "\u001b[0;31mKeyError\u001b[0m: \"['ELV', 'MMC', 'VRTX', 'REGN', 'CB', 'CI', 'ETN', 'SLB', 'PGR', 'BSX'] not in index\""
     ]
    }
   ],
   "source": [
    "covar_matrix = ewCovar(returns[portfolio['Stock']].to_numpy(), 0.94)\n",
    "\n",
    "# Getting the current price from the last row for the stocks in the portfolio\n",
    "current_prices = prices.iloc[-1][portfolio['Stock']]"
   ]
  },
  {
   "cell_type": "markdown",
   "metadata": {},
   "source": [
    "### Simulate Returns with PCA"
   ]
  },
  {
   "cell_type": "code",
   "execution_count": null,
   "metadata": {},
   "outputs": [],
   "source": [
    "n_simulations = 10000\n",
    "pca = PCA()\n",
    "pca.fit(covar_matrix)\n",
    "simulated_returns = pca.transform(np.random.normal(size=(n_simulations, covar_matrix.shape[1])))"
   ]
  },
  {
   "cell_type": "code",
   "execution_count": null,
   "metadata": {},
   "outputs": [],
   "source": [
    "# Cross-joining portfolio with iterations to set up calculation framework\n",
    "values = pd.merge(portfolio.assign(key=0), pd.DataFrame({'iteration': range(n_simulations)}).assign(key=0), on='key').drop('key', axis=1)\n",
    "\n",
    "# Calculating current and simulated values, and profit & loss (PnL)\n",
    "values['current_value'] = values['Holding'] * current_prices[values['Stock']].values\n",
    "values['simulated_value'] = values['Holding'] * current_prices[values['Stock']].values * (1 + simulated_returns[values['iteration'], values['Stock'].index])\n",
    "values['pnl'] = values['simulated_value'] - values['current_value']\n"
   ]
  },
  {
   "cell_type": "code",
   "execution_count": null,
   "metadata": {},
   "outputs": [],
   "source": [
    "# Group by portfolio and iteration and sum up the current value and PnL\n",
    "portfolio_values = values.groupby(['Portfolio', 'iteration']).agg({'current_value': 'sum', 'pnl': 'sum'}).reset_index()\n",
    "\n",
    "# Function to calculate VaR\n",
    "def calculate_var(pnl_series, alpha=0.05):\n",
    "    return pnl_series.quantile(alpha)\n",
    "\n",
    "# Group by portfolio and calculate VaR for each\n",
    "portfolio_risk = portfolio_values.groupby('Portfolio').agg(current_value=('current_value', 'first'), VaR95=('pnl', lambda x: calculate_var(x)))\n",
    "\n",
    "# Calculate total metrics\n",
    "total_values = portfolio_values.groupby('iteration').agg({'current_value': 'sum', 'pnl': 'sum'}).reset_index()\n",
    "\n",
    "# Calculate total VaR\n",
    "total_risk = total_values.agg(current_value=('current_value', 'first'), VaR95=('pnl', lambda x: calculate_var(x)))\n",
    "total_risk['Portfolio'] = 'Total'\n",
    "\n",
    "# Combine portfolio and total risk into one DataFrame\n",
    "VaR_report = pd.concat([portfolio_risk, total_risk], ignore_index=True)\n",
    "\n",
    "# Print VaR report\n",
    "print(VaR_report)\n"
   ]
  },
  {
   "cell_type": "markdown",
   "metadata": {},
   "source": [
    "### "
   ]
  }
 ],
 "metadata": {
  "kernelspec": {
   "display_name": "base",
   "language": "python",
   "name": "python3"
  },
  "language_info": {
   "codemirror_mode": {
    "name": "ipython",
    "version": 3
   },
   "file_extension": ".py",
   "mimetype": "text/x-python",
   "name": "python",
   "nbconvert_exporter": "python",
   "pygments_lexer": "ipython3",
   "version": "3.9.12"
  }
 },
 "nbformat": 4,
 "nbformat_minor": 2
}
