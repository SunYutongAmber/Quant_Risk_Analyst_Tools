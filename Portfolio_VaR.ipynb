{
 "cells": [
  {
   "cell_type": "code",
   "execution_count": 3,
   "metadata": {},
   "outputs": [],
   "source": [
    "import numpy as np\n",
    "import math\n",
    "import scipy.stats as stats\n",
    "from scipy.optimize import minimize\n",
    "import pandas as pd\n",
    "import statsmodels.api as sm"
   ]
  },
  {
   "cell_type": "markdown",
   "metadata": {},
   "source": [
    "# Portfolio VaR"
   ]
  },
  {
   "cell_type": "code",
   "execution_count": 9,
   "metadata": {},
   "outputs": [
    {
     "data": {
      "text/html": [
       "<div>\n",
       "<style scoped>\n",
       "    .dataframe tbody tr th:only-of-type {\n",
       "        vertical-align: middle;\n",
       "    }\n",
       "\n",
       "    .dataframe tbody tr th {\n",
       "        vertical-align: top;\n",
       "    }\n",
       "\n",
       "    .dataframe thead th {\n",
       "        text-align: right;\n",
       "    }\n",
       "</style>\n",
       "<table border=\"1\" class=\"dataframe\">\n",
       "  <thead>\n",
       "    <tr style=\"text-align: right;\">\n",
       "      <th></th>\n",
       "      <th>Portfolio</th>\n",
       "      <th>Stock</th>\n",
       "      <th>Holding</th>\n",
       "    </tr>\n",
       "  </thead>\n",
       "  <tbody>\n",
       "    <tr>\n",
       "      <th>0</th>\n",
       "      <td>A</td>\n",
       "      <td>AAPL</td>\n",
       "      <td>158</td>\n",
       "    </tr>\n",
       "    <tr>\n",
       "      <th>1</th>\n",
       "      <td>A</td>\n",
       "      <td>MSFT</td>\n",
       "      <td>178</td>\n",
       "    </tr>\n",
       "    <tr>\n",
       "      <th>2</th>\n",
       "      <td>A</td>\n",
       "      <td>AMZN</td>\n",
       "      <td>110</td>\n",
       "    </tr>\n",
       "    <tr>\n",
       "      <th>3</th>\n",
       "      <td>A</td>\n",
       "      <td>NVDA</td>\n",
       "      <td>54</td>\n",
       "    </tr>\n",
       "    <tr>\n",
       "      <th>4</th>\n",
       "      <td>A</td>\n",
       "      <td>GOOGL</td>\n",
       "      <td>69</td>\n",
       "    </tr>\n",
       "    <tr>\n",
       "      <th>...</th>\n",
       "      <td>...</td>\n",
       "      <td>...</td>\n",
       "      <td>...</td>\n",
       "    </tr>\n",
       "    <tr>\n",
       "      <th>94</th>\n",
       "      <td>C</td>\n",
       "      <td>SCHW</td>\n",
       "      <td>158</td>\n",
       "    </tr>\n",
       "    <tr>\n",
       "      <th>95</th>\n",
       "      <td>C</td>\n",
       "      <td>LRCX</td>\n",
       "      <td>194</td>\n",
       "    </tr>\n",
       "    <tr>\n",
       "      <th>96</th>\n",
       "      <td>C</td>\n",
       "      <td>ZTS</td>\n",
       "      <td>121</td>\n",
       "    </tr>\n",
       "    <tr>\n",
       "      <th>97</th>\n",
       "      <td>C</td>\n",
       "      <td>C</td>\n",
       "      <td>83</td>\n",
       "    </tr>\n",
       "    <tr>\n",
       "      <th>99</th>\n",
       "      <td>C</td>\n",
       "      <td>AMT</td>\n",
       "      <td>68</td>\n",
       "    </tr>\n",
       "  </tbody>\n",
       "</table>\n",
       "<p>90 rows × 3 columns</p>\n",
       "</div>"
      ],
      "text/plain": [
       "   Portfolio  Stock  Holding\n",
       "0          A   AAPL      158\n",
       "1          A   MSFT      178\n",
       "2          A   AMZN      110\n",
       "3          A   NVDA       54\n",
       "4          A  GOOGL       69\n",
       "..       ...    ...      ...\n",
       "94         C   SCHW      158\n",
       "95         C   LRCX      194\n",
       "96         C    ZTS      121\n",
       "97         C      C       83\n",
       "99         C    AMT       68\n",
       "\n",
       "[90 rows x 3 columns]"
      ]
     },
     "execution_count": 9,
     "metadata": {},
     "output_type": "execute_result"
    }
   ],
   "source": [
    "import pandas as pd\n",
    "import numpy as np\n",
    "from scipy.stats import norm\n",
    "from sklearn.decomposition import PCA\n",
    "\n",
    "# Reading the portfolio data into a DataFrame\n",
    "portfolio = pd.read_csv(\"portfolio.csv\")\n",
    "returns = pd.read_csv('DailyReturn.csv')\n",
    "prices = pd.read_csv('DailyPrices.csv')\n",
    "portfolio = portfolio[~portfolio['Stock'].isin(['ELV', 'MMC', 'VRTX', 'REGN', 'CB', 'CI', 'ETN', 'SLB', 'PGR', 'BSX'])]\n",
    "portfolio"
   ]
  },
  {
   "cell_type": "markdown",
   "metadata": {},
   "source": [
    "### Covariance Matrix Function"
   ]
  },
  {
   "cell_type": "code",
   "execution_count": 11,
   "metadata": {},
   "outputs": [],
   "source": [
    "def exp_weighted_cov(returns, lambda_=0.97):\n",
    "    returns = returns.values\n",
    "    mean_return = np.mean(returns, axis=0)\n",
    "    normalized_returns = returns - mean_return\n",
    "\n",
    "    n_timesteps = normalized_returns.shape[0]\n",
    "    cov = np.cov(returns, rowvar=False)\n",
    "\n",
    "    for t in range(1, n_timesteps):\n",
    "        cov = lambda_ * cov + (1 - lambda_) * np.outer(normalized_returns[t], normalized_returns[t])\n",
    "    return cov"
   ]
  },
  {
   "cell_type": "code",
   "execution_count": 12,
   "metadata": {},
   "outputs": [],
   "source": [
    "def return_calculate(prices, method=\"DISCRETE\", dateColumn=\"Date\"):\n",
    "    vars_ = prices.columns\n",
    "    nVars = len(vars_)\n",
    "    vars_ = [var for var in vars_ if var != dateColumn]\n",
    "    if nVars == len(vars_):\n",
    "        raise ValueError(f\"dateColumn: {dateColumn} not in DataFrame: {vars_}\")\n",
    "    nVars = nVars - 1\n",
    "    p = prices[vars_].to_numpy()\n",
    "    n, m = p.shape\n",
    "    p2 = np.empty((n-1, m))\n",
    "    for i in range(n-1):\n",
    "        for j in range(m):\n",
    "            p2[i, j] = p[i+1, j] / p[i, j]\n",
    "    if method.upper() == \"DISCRETE\":\n",
    "        p2 = p2 - 1.0\n",
    "    elif method.upper() == \"LOG\":\n",
    "        p2 = np.log(p2)\n",
    "    else:\n",
    "        raise ValueError(f\"method: {method} must be in (\\\"LOG\\\",\\\"DISCRETE\\\")\")\n",
    "    dates = prices[dateColumn].iloc[1:n].to_numpy()\n",
    "    out = pd.DataFrame({dateColumn: dates})\n",
    "    for i in range(nVars):\n",
    "        out[vars_[i]] = p2[:, i]\n",
    "    return out\n"
   ]
  },
  {
   "cell_type": "code",
   "execution_count": 62,
   "metadata": {},
   "outputs": [],
   "source": [
    "# Define a function to get the current price of a portfolio, option to calculate delta\n",
    "def get_portfolio_price(portfolio, prices, portfolio_name, Delta=False):\n",
    "    # If portfolio_name is \"All\", then aggregate holdings by stock across all portfolios\n",
    "    if portfolio_name == \"All\":\n",
    "        # Drop the 'Portfolio' column as we're aggregating across all portfolios\n",
    "        assets = portfolio.drop('Portfolio', axis=1)\n",
    "        # Group by 'Stock' and sum up the 'Holding' values, resetting index to have 'Stock' as a column\n",
    "        assets = assets.groupby([\"Stock\"], as_index=False)[\"Holding\"].sum()\n",
    "    else:\n",
    "        # If a specific portfolio is named, just select that portfolio's stocks and holdings\n",
    "        assets = portfolio[portfolio[\"Portfolio\"] == portfolio_name]     \n",
    "    # Extract the list of stock codes from the assets DataFrame\n",
    "    stock_codes = list(assets[\"Stock\"])\n",
    "    # Concatenate the 'Date' column from prices with the selected stock columns, aligning data by date\n",
    "    assets_prices = pd.concat([prices[\"Date\"], prices[stock_codes]], axis=1) \n",
    "    # Calculate the current portfolio price by taking the dot product of the latest prices and holdings\n",
    "    current_price = np.dot(prices[assets[\"Stock\"]].tail(1), assets[\"Holding\"])\n",
    "    # Extract the holdings for the assets\n",
    "    holdings = assets[\"Holding\"]   \n",
    "    # If Delta is True, calculate the delta values\n",
    "    if Delta == True:\n",
    "        # Multiply each holding by its corresponding latest stock price to get the asset value\n",
    "        asset_values = assets[\"Holding\"].values.reshape(-1, 1) * prices[assets[\"Stock\"]].tail(1).T.values\n",
    "        # Calculate delta by dividing the asset values by the total current price of the portfolio\n",
    "        delta = asset_values / current_price       \n",
    "        # Return the current price of the portfolio, asset prices with dates, and delta values\n",
    "        return current_price, assets_prices, delta   \n",
    "    # If Delta is False, just return the current price, asset prices with dates, and holdings\n",
    "    return current_price, assets_prices, holdings"
   ]
  },
  {
   "cell_type": "markdown",
   "metadata": {},
   "source": [
    "### "
   ]
  },
  {
   "cell_type": "code",
   "execution_count": null,
   "metadata": {},
   "outputs": [],
   "source": []
  },
  {
   "cell_type": "markdown",
   "metadata": {},
   "source": [
    "# Delta-Normal VaR"
   ]
  },
  {
   "cell_type": "code",
   "execution_count": 63,
   "metadata": {},
   "outputs": [],
   "source": [
    "# Calculate with Delta Normal\n",
    "def calculate_delta_var(portfolio, prices, alpha=0.05, lambda_=0.94, portfolio_name=\"All\"):\n",
    "    # 计算投资组合的当前价格和资产价格\n",
    "    current_price, assets_prices, delta = get_portfolio_price(portfolio, prices, portfolio_name, Delta=True)\n",
    "    # 计算资产的收益率\n",
    "    returns = return_calculate(assets_prices, dateColumn=\"Date\").drop('Date', axis=1)\n",
    "    # 使用指数加权协方差矩阵\n",
    "    assets_cov = ewCovar(returns, lambda_)\n",
    "    # 计算VaR的delta值\n",
    "    p_sig = np.sqrt(np.transpose(delta) @ assets_cov @ delta)\n",
    "    # 根据delta-normal方法计算VaR\n",
    "    var_delta = -current_price * stats.norm.ppf(alpha) * p_sig\n",
    "    return current_price[0], var_delta[0][0]"
   ]
  },
  {
   "cell_type": "markdown",
   "metadata": {},
   "source": [
    "# Historical VaR"
   ]
  },
  {
   "cell_type": "code",
   "execution_count": 86,
   "metadata": {},
   "outputs": [],
   "source": [
    "# Calculate with historical simulation\n",
    "def calculate_historic_var(portfolio, prices, alpha=0.05, n_simulation=1000, portfolio_name=\"All\"):\n",
    "    # 与delta-normal方法类似，先获取当前价格和资产价格\n",
    "    current_price, assets_prices,delta = get_portfolio_price(portfolio, prices, portfolio_name)\n",
    "    # 计算资产收益率\n",
    "    returns = return_calculate(assets_prices, dateColumn=\"Date\").drop(\"Date\", axis=1)\n",
    "    # 从资产收益率中抽样，构建模拟的收益率矩阵\n",
    "    sim_returns = returns.sample(n_simulation, replace=True)\n",
    "    # 计算模拟的投资组合价格\n",
    "    assets_prices = assets_prices.iloc[:,1:]\n",
    "    #simulated portfolio prices\n",
    "    sim_prices = np.dot((sim_returns+1), assets_prices.tail(1).values.reshape(assets_prices.shape[1],))\n",
    "    # 计算历史模拟VaR值\n",
    "    var_hist = -np.percentile(sim_prices, alpha*100)\n",
    "    return current_price[0], var_hist, sim_prices"
   ]
  },
  {
   "cell_type": "markdown",
   "metadata": {},
   "source": [
    "# Results"
   ]
  },
  {
   "cell_type": "code",
   "execution_count": 87,
   "metadata": {},
   "outputs": [
    {
     "name": "stdout",
     "output_type": "stream",
     "text": [
      "The current value for A is: 1089316.16\n",
      "VaR for A using Delta Normal is: 15206.39\n",
      "VaR for A using Historic Simulation is: -8728.63\n",
      "\n"
     ]
    }
   ],
   "source": [
    "# Print the results\n",
    "current_price, delta_var = calculate_delta_var(portfolio, prices, portfolio_name='A')\n",
    "current_price, hist_var, hist_sim_prices = calculate_historic_var(portfolio, daily_prices, portfolio_name='A')\n",
    "\n",
    "print(\"The current value for A is: {:.2f}\".format(current_price))\n",
    "print(\"VaR for A using Delta Normal is: {:.2f}\".format(delta_var))\n",
    "print(\"VaR for A using Historic Simulation is: {:.2f}\\n\".format(hist_var))"
   ]
  }
 ],
 "metadata": {
  "kernelspec": {
   "display_name": "base",
   "language": "python",
   "name": "python3"
  },
  "language_info": {
   "codemirror_mode": {
    "name": "ipython",
    "version": 3
   },
   "file_extension": ".py",
   "mimetype": "text/x-python",
   "name": "python",
   "nbconvert_exporter": "python",
   "pygments_lexer": "ipython3",
   "version": "3.9.12"
  }
 },
 "nbformat": 4,
 "nbformat_minor": 2
}
