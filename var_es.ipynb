{
 "cells": [
  {
   "cell_type": "code",
   "execution_count": 1,
   "metadata": {},
   "outputs": [
    {
     "name": "stdout",
     "output_type": "stream",
     "text": [
      "1.6281706786176076\n",
      "1.6448536269514729\n"
     ]
    }
   ],
   "source": [
    "import numpy as np\n",
    "from scipy.stats import norm\n",
    "from scipy.integrate import quad\n",
    "\n",
    "def VaR(a, alpha=0.05):\n",
    "    x = np.sort(a)\n",
    "    nup = int(np.ceil(len(a) * alpha))\n",
    "    ndn = int(np.floor(len(a) * alpha))\n",
    "    v = 0.5 * (x[nup - 1] + x[ndn - 1])  # -1 for zero-based index\n",
    "    return -v\n",
    "\n",
    "def VaR_distribution(d, alpha=0.05):\n",
    "    return -d.ppf(alpha)\n",
    "\n",
    "# 示例\n",
    "a = np.random.normal(0, 1, size=1000)\n",
    "print(VaR(a))\n",
    "print(VaR_distribution(norm(0, 1)))\n"
   ]
  },
  {
   "cell_type": "code",
   "execution_count": 2,
   "metadata": {},
   "outputs": [
    {
     "name": "stdout",
     "output_type": "stream",
     "text": [
      "2.1072978125898345\n",
      "2.0627128073639986\n"
     ]
    }
   ],
   "source": [
    "def ES(a, alpha=0.05):\n",
    "    x = np.sort(a)\n",
    "    nup = int(np.ceil(len(a) * alpha))\n",
    "    ndn = int(np.floor(len(a) * alpha))\n",
    "    v = 0.5 * (x[nup - 1] + x[ndn - 1])\n",
    "    es = np.mean(x[x <= v])\n",
    "    return -es\n",
    "\n",
    "def ES_distribution(d, alpha=0.05):\n",
    "    v = VaR_distribution(d, alpha)\n",
    "    integrand = lambda x: x * d.pdf(x)\n",
    "    st = d.ppf(1e-12)\n",
    "    return -quad(integrand, st, -v)[0] / alpha\n",
    "\n",
    "# 示例\n",
    "a = np.random.normal(0, 1, size=1000)\n",
    "print(ES(a))\n",
    "print(ES_distribution(norm(0, 1)))"
   ]
  }
 ],
 "metadata": {
  "kernelspec": {
   "display_name": "base",
   "language": "python",
   "name": "python3"
  },
  "language_info": {
   "codemirror_mode": {
    "name": "ipython",
    "version": 3
   },
   "file_extension": ".py",
   "mimetype": "text/x-python",
   "name": "python",
   "nbconvert_exporter": "python",
   "pygments_lexer": "ipython3",
   "version": "3.10.9"
  }
 },
 "nbformat": 4,
 "nbformat_minor": 2
}
